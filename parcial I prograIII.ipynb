{
  "nbformat": 4,
  "nbformat_minor": 0,
  "metadata": {
    "colab": {
      "provenance": [],
      "authorship_tag": "ABX9TyPb7RwqGX/qsryO0vV26yrh",
      "include_colab_link": true
    },
    "kernelspec": {
      "name": "python3",
      "display_name": "Python 3"
    },
    "language_info": {
      "name": "python"
    }
  },
  "cells": [
    {
      "cell_type": "markdown",
      "metadata": {
        "id": "view-in-github",
        "colab_type": "text"
      },
      "source": [
        "<a href=\"https://colab.research.google.com/github/samu603/semi-prograIII-2025/blob/main/parcial%20I%20prograIII.ipynb\" target=\"_parent\"><img src=\"https://colab.research.google.com/assets/colab-badge.svg\" alt=\"Open In Colab\"/></a>"
      ]
    },
    {
      "cell_type": "code",
      "execution_count": null,
      "metadata": {
        "id": "BmnMcc19oei0"
      },
      "outputs": [],
      "source": [
        "def cajero_automatico():\n",
        "    billetes = [100, 50, 20, 10, 5, 1]\n",
        "    monedas = [0.25, 0.10, 0.05, 0.01]\n",
        "\n",
        "    cantidad = float(input(\"Ingrese la cantidad a retirar: \"))\n",
        "\n",
        "    print(\"\\n--- Desglose ---\")\n",
        "\n",
        "    for b in billetes:\n",
        "        if cantidad >= b:\n",
        "            num = int(cantidad // b)\n",
        "            cantidad = round(cantidad - (num * b), 2)\n",
        "            print(f\"{num} billete(s) de {b}\")\n",
        "\n",
        "    for m in monedas:\n",
        "        if cantidad >= m:\n",
        "            num = int(cantidad // m)\n",
        "            cantidad = round(cantidad - (num * m), 2)\n",
        "            print(f\"{num} moneda(s) de {m}\")\n",
        "\n",
        "    if cantidad > 0:\n",
        "        print(f\"Cantidad sobrante no distribuida: {cantidad}\")\n",
        "\n",
        "cajero_automatico()"
      ]
    },
    {
      "cell_type": "code",
      "source": [
        "def calcular_impuesto(monto):\n",
        "    rangos = [\n",
        "        (0.01, 500, 1.5, 0),\n",
        "        (500.01, 1000, 1.5, 3),\n",
        "        (1000.01, 2000, 3, 3),\n",
        "        (2000.01, 3000, 6, 3),\n",
        "        (3000.01, 6000, 9, 2),\n",
        "        (6000.01, 18000, 15, 2),\n",
        "        (18000.01, 30000, 39, 2),\n",
        "        (30000.01, 60000, 63, 1),\n",
        "        (60000.01, 100000, 93, 0.8),\n",
        "        (100000.01, 200000, 125, 0.7),\n",
        "        (200000.01, 300000, 195, 0.6),\n",
        "        (300000.01, 400000, 255, 0.45),\n",
        "        (400000.01, 500000, 300, 0.4),\n",
        "        (500000.01, 1000000, 340, 0.30),\n",
        "        (1000000.01, 99999999, 490, 0.18)\n",
        "    ]\n",
        "\n",
        "    for desde, hasta, precio, adicional in rangos:\n",
        "        if desde <= monto <= hasta:\n",
        "            excedente = monto - desde\n",
        "            impuesto = precio + (excedente / 1000) * adicional\n",
        "            return round(impuesto, 2)\n",
        "\n",
        "    return 0\n",
        "\n",
        "\n",
        "\n",
        "monto = float(input(\"Ingrese el monto de la actividad económica: \"))\n",
        "impuesto = calcular_impuesto(monto)\n",
        "print(f\"El impuesto a pagar es: ${impuesto}\")"
      ],
      "metadata": {
        "id": "ldOKK8OOsN0K"
      },
      "execution_count": null,
      "outputs": []
    },
    {
      "cell_type": "code",
      "source": [
        "def convertir_area(valor, unidad_origen, unidad_destino):\n",
        "\n",
        "    unidades = {\n",
        "        \"Pie Cuadrado\": 0.092903,\n",
        "        \"Vara Cuadrada\": 0.698896,\n",
        "        \"Yarda Cuadrada\": 0.836127,\n",
        "        \"Metro Cuadrado\": 1,\n",
        "        \"Tareas\": 437.5,\n",
        "        \"Manzana\": 6987.4,\n",
        "        \"Hectarea\": 10000               }\n",
        "\n",
        "    if unidad_origen not in unidades or unidad_destino not in unidades:\n",
        "        return None\n",
        "\n",
        "\n",
        "    valor_m2 = valor * unidades[unidad_origen]\n",
        "\n",
        "\n",
        "    resultado = valor_m2 / unidades[unidad_destino]\n",
        "\n",
        "    return resultado\n",
        "\n",
        "print(\"=== Conversor de Áreas ===\")\n",
        "print(\"Opciones: Pie Cuadrado, Vara Cuadrada, Yarda Cuadrada, Metro Cuadrado, Tareas, Manzana, Hectárea\")\n",
        "\n",
        "valor = float(input(\"Ingrese el valor a convertir: \"))\n",
        "unidad_origen = input(\"Ingrese la unidad de origen: \")\n",
        "unidad_destino = input(\"Ingrese la unidad de destino: \")\n",
        "\n",
        "resultado = convertir_area(valor, unidad_origen, unidad_destino)\n",
        "\n",
        "if resultado is not None:\n",
        "    print(f\"{valor} {unidad_origen} equivalen a {resultado:.4f} {unidad_destino}\")\n",
        "else:\n",
        "    print(\"Unidad no válida, revise las opciones.\")"
      ],
      "metadata": {
        "id": "usfykZ9KsVJZ"
      },
      "execution_count": null,
      "outputs": []
    }
  ]
}