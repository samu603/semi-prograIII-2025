{
  "cells": [
    {
      "cell_type": "markdown",
      "metadata": {
        "id": "view-in-github",
        "colab_type": "text"
      },
      "source": [
        "<a href=\"https://colab.research.google.com/github/samu603/semi-prograIII-2025/blob/main/Te_damos_la_bienvenida_a_Colab.ipynb\" target=\"_parent\"><img src=\"https://colab.research.google.com/assets/colab-badge.svg\" alt=\"Open In Colab\"/></a>"
      ]
    },
    {
      "cell_type": "code",
      "source": [
        "#Encontrar la persona de mayor edad en una lista de datos.\n",
        "# Lista de personas (cada una representada como diccionario)\n",
        "personas = [\n",
        "    {\"nombre\": \"Luis\", \"edad\": 30},\n",
        "    {\"nombre\": \"Juan\", \"edad\": 40},\n",
        "    {\"nombre\": \"Jorge\", \"edad\": 20},\n",
        "    {\"nombre\": \"Jose\", \"edad\": 10}\n",
        "]\n",
        "\n",
        "# Encontrar la persona de mayor edad\n",
        "mayor = max(personas, key=lambda p: p[\"edad\"])\n",
        "\n",
        "print(\"La persona de mayor edad es:\", mayor[\"nombre\"], \"con\", mayor[\"edad\"], \"años.\")"
      ],
      "metadata": {
        "colab": {
          "base_uri": "https://localhost:8080/"
        },
        "id": "bOqGWWWeuU-n",
        "outputId": "72ae8d9d-a83f-49d3-d2c6-ea098904c78c"
      },
      "execution_count": 3,
      "outputs": [
        {
          "output_type": "stream",
          "name": "stdout",
          "text": [
            "La persona de mayor edad es: Juan con 40 años.\n"
          ]
        }
      ]
    }
  ],
  "metadata": {
    "colab": {
      "name": "Te damos la bienvenida a Colab",
      "provenance": [],
      "include_colab_link": true
    },
    "kernelspec": {
      "display_name": "Python 3",
      "name": "python3"
    }
  },
  "nbformat": 4,
  "nbformat_minor": 0
}