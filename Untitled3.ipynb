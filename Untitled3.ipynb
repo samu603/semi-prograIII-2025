{
  "nbformat": 4,
  "nbformat_minor": 0,
  "metadata": {
    "colab": {
      "provenance": [],
      "authorship_tag": "ABX9TyMVgLpTuE0Kn3JDxL6fx072",
      "include_colab_link": true
    },
    "kernelspec": {
      "name": "python3",
      "display_name": "Python 3"
    },
    "language_info": {
      "name": "python"
    }
  },
  "cells": [
    {
      "cell_type": "markdown",
      "metadata": {
        "id": "view-in-github",
        "colab_type": "text"
      },
      "source": [
        "<a href=\"https://colab.research.google.com/github/samu603/semi-prograIII-2025/blob/main/Untitled3.ipynb\" target=\"_parent\"><img src=\"https://colab.research.google.com/assets/colab-badge.svg\" alt=\"Open In Colab\"/></a>"
      ]
    },
    {
      "cell_type": "code",
      "execution_count": null,
      "metadata": {
        "id": "DXZPu9DvyTaP"
      },
      "outputs": [],
      "source": [
        "introduccion_python.ipynb\n",
        "+18\n",
        "-1\n",
        "Lines changed: 18 additions & 1 deletion\n",
        "Original file line number\tDiff line number\tDiff line change\n",
        "@@ -4,7 +4,7 @@\n",
        "  \"metadata\": {\n",
        "    \"colab\": {\n",
        "      \"provenance\": [],\n",
        "      \"authorship_tag\": \"ABX9TyO9ZgX7d1D+s8gOsF6chtBh\",\n",
        "      \"authorship_tag\": \"ABX9TyOplHN0qe+yeyQRULGb12jj\",\n",
        "      \"include_colab_link\": true\n",
        "    },\n",
        "    \"kernelspec\": {\n",
        "@@ -1431,6 +1431,23 @@\n",
        "          ]\n",
        "        }\n",
        "      ]\n",
        "    },\n",
        "    {\n",
        "      \"cell_type\": \"code\",\n",
        "      \"source\": [\n",
        "        \"#Encontrar la persona de mayor edad en una lista de datos.\\n\",\n",
        "        \"personas = [\\n\",\n",
        "        \"    {\\\"nombre\\\":\\\"Luis\\\", \\\"edad\\\": 30},\\n\",\n",
        "        \"    {\\\"nombre\\\":\\\"Juan\\\", \\\"edad\\\": 40},\\n\",\n",
        "        \"    {\\\"nombre\\\":\\\"jorge\\\", \\\"edad\\\": 20},\\n\",\n",
        "        \"    {\\\"nombre\\\":\\\"Jose\\\", \\\"edad\\\": 10},\\n\",\n",
        "        \"]\\n\"\n",
        "      ],\n",
        "      \"metadata\": {\n",
        "        \"id\": \"Y2lALsRAtAOl\"\n",
        "      },\n",
        "      \"execution_count\": 29,\n",
        "      \"outputs\": []\n",
        "    }\n",
        "  ]\n",
        "}"
      ]
    },
    {
      "cell_type": "code",
      "source": [
        " -4,7 +4,7\n",
        "  \"metadata\": {\n",
        "    \"colab\": {\n",
        "      \"provenance\": [],\n",
        "      \"authorship_tag\": \"ABX9TyM636nic5Dw89awoZ9fxC9z\",\n",
        "      \"authorship_tag\": \"ABX9TyO9ZgX7d1D+s8gOsF6chtBh\",\n",
        "      \"include_colab_link\": true\n",
        "    },\n",
        "    \"kernelspec\": {\n",
        " -1397,20 +1397,12\n",
        "        \"\\n\",\n",
        "        \"class calculadora:\\n\",\n",
        "        \"  def mayor_menor(self, serie):\\n\",\n",
        "        \"    nMayor = 0\\n\",\n",
        "        \"    nMenor = int(serie[0])\\n\",\n",
        "        \"    for i in serie:\\n\",\n",
        "        \"      num = int(i)\\n\",\n",
        "        \"      if(num>nMayor):\\n\",\n",
        "        \"        nMayor=num\\n\",\n",
        "        \"      if(num<nMenor):\\n\",\n",
        "        \"        nMenor=num\\n\",\n",
        "        \"    return nMayor, nMenor\"\n",
        "        \"    return max(serie), min(serie)\"\n",
        "      ],\n",
        "      \"metadata\": {\n",
        "        \"id\": \"YVLh4AJXmN24\"\n",
        "      },\n",
        "      \"execution_count\": 25,\n",
        "      \"execution_count\": 27,\n",
        "      \"outputs\": []\n",
        "    },\n",
        "    {\n",
        " -1426,16 +1418,16\n",
        "          \"base_uri\":\n",
        "        },\n",
        "        \"id\": \"HiK4n3TGiRf3\",\n",
        "        \"outputId\": \"205831b7-771a-4d39-af8b-2e24edd39b4c\"\n",
        "        \"outputId\": \"506fdf06-d43b-4aef-e0b6-1368fca39072\"\n",
        "      },\n",
        "      \"execution_count\": 26,\n",
        "      \"execution_count\": 28,\n",
        "      \"outputs\": [\n",
        "        {\n",
        "          \"output_type\": \"stream\",\n",
        "          \"name\": \"stdout\",\n",
        "          \"text\": [\n",
        "            \"Serie ejm: 1,5,4,9,3: 8,1,9,7,6\\n\",\n",
        "            \"El Mayor es:  9 el menor es:  1\\n\"\n",
        "            \"Serie ejm: 1,5,4,9,3: 8,9,4,7\\n\",\n",
        "            \"El Mayor es:  9 el menor es:  4\\n\"\n",
        "          ]\n",
        "        }\n",
        "      ]"
      ],
      "metadata": {
        "colab": {
          "base_uri": "https://localhost:8080/",
          "height": 106
        },
        "id": "iFb-GwRjygNS",
        "outputId": "a15f4940-df4c-4ff1-b1c7-0736d230bcf3"
      },
      "execution_count": 2,
      "outputs": [
        {
          "output_type": "error",
          "ename": "IndentationError",
          "evalue": "unindent does not match any outer indentation level (<tokenize>, line 39)",
          "traceback": [
            "\u001b[0;36m  File \u001b[0;32m\"<tokenize>\"\u001b[0;36m, line \u001b[0;32m39\u001b[0m\n\u001b[0;31m    },\u001b[0m\n\u001b[0m    ^\u001b[0m\n\u001b[0;31mIndentationError\u001b[0m\u001b[0;31m:\u001b[0m unindent does not match any outer indentation level\n"
          ]
        }
      ]
    }
  ]
}